{
  "nbformat": 4,
  "nbformat_minor": 0,
  "metadata": {
    "kernelspec": {
      "name": "python3",
      "display_name": "Python 3"
    },
    "colab": {
      "name": "ULMFit.ipynb",
      "provenance": [],
      "collapsed_sections": []
    },
    "language_info": {
      "name": "python"
    },
    "accelerator": "GPU"
  },
  "cells": [
    {
      "cell_type": "markdown",
      "metadata": {
        "id": "EXcJDyCcE9hI"
      },
      "source": [
        "###Installation & Imports"
      ]
    },
    {
      "cell_type": "code",
      "metadata": {
        "id": "TnITI1KmYhdt"
      },
      "source": [
        "from google.colab import drive\n",
        "#Mount google drive for retrive files\n",
        "drive.mount('/content/drive')"
      ],
      "execution_count": null,
      "outputs": []
    },
    {
      "cell_type": "code",
      "metadata": {
        "id": "Y-lN9KwEYq_U"
      },
      "source": [
        "!pip install sentencepiece\n",
        "!pip install emoji\n",
        "!pip install emot\n",
        "!pip install nltk"
      ],
      "execution_count": null,
      "outputs": []
    },
    {
      "cell_type": "code",
      "metadata": {
        "id": "1yRffv0XYZ-W"
      },
      "source": [
        "from fastai.text import *\n",
        "import numpy as np\n",
        "import pandas as pd\n",
        "from sklearn.model_selection import train_test_split\n",
        "import pickle\n",
        "import sentencepiece as spm\n",
        "import re\n",
        "import pdb\n",
        "\n",
        "from nltk.corpus import words\n",
        "from bs4 import BeautifulSoup\n",
        "import nltk\n",
        "nltk.download('words')\n",
        "import nltk, string, re, spacy,unicodedata, random\n",
        "nltk.download('punkt')\n",
        "from nltk.corpus import stopwords\n",
        "from nltk.tokenize import word_tokenize\n",
        "from nltk.tokenize import ToktokTokenizer\n",
        "import nltk, string, re, spacy,unicodedata, random"
      ],
      "execution_count": null,
      "outputs": []
    },
    {
      "cell_type": "code",
      "metadata": {
        "id": "KUAKfxAQYZ-a"
      },
      "source": [
        "import fastai, torch\n",
        "fastai.__version__ , torch.__version__"
      ],
      "execution_count": null,
      "outputs": []
    },
    {
      "cell_type": "code",
      "metadata": {
        "id": "2ntS4FPsYZ-b"
      },
      "source": [
        "torch.cuda.set_device(0)"
      ],
      "execution_count": null,
      "outputs": []
    },
    {
      "cell_type": "code",
      "metadata": {
        "id": "hNLS_vfBYZ-c"
      },
      "source": [
        "def random_seed(seed_value, use_cuda):\n",
        "    np.random.seed(seed_value)  \n",
        "    torch.manual_seed(seed_value)  \n",
        "    random.seed(seed_value)\n",
        "    if use_cuda:\n",
        "        torch.cuda.manual_seed(seed_value)\n",
        "        torch.cuda.manual_seed_all(seed_value)  \n",
        "        torch.backends.cudnn.deterministic = True\n",
        "        torch.backends.cudnn.benchmark = False"
      ],
      "execution_count": null,
      "outputs": []
    },
    {
      "cell_type": "code",
      "metadata": {
        "id": "vHJacoPHYZ-d"
      },
      "source": [
        "random_seed(42, True)"
      ],
      "execution_count": null,
      "outputs": []
    },
    {
      "cell_type": "code",
      "metadata": {
        "id": "colOnjolYZ-d"
      },
      "source": [
        "path = Path('/tmp')"
      ],
      "execution_count": null,
      "outputs": []
    },
    {
      "cell_type": "code",
      "metadata": {
        "id": "mxA8YWyLYZ-e"
      },
      "source": [
        "!pwd"
      ],
      "execution_count": null,
      "outputs": []
    },
    {
      "cell_type": "markdown",
      "metadata": {
        "id": "RUpoAT1WFCk7"
      },
      "source": [
        "###Import Data"
      ]
    },
    {
      "cell_type": "code",
      "metadata": {
        "id": "_DonrlOmYZ-g"
      },
      "source": [
        "df_train = pd.read_csv('/content/drive/My Drive/Sentiment Analysis Fire/data/tamil_sentiment_full_train.csv', header=None)\n",
        "df_train = df_train.dropna()\n",
        "df_train"
      ],
      "execution_count": null,
      "outputs": []
    },
    {
      "cell_type": "code",
      "metadata": {
        "id": "i-TxyhtGU089"
      },
      "source": [
        "print(len(df_train))"
      ],
      "execution_count": null,
      "outputs": []
    },
    {
      "cell_type": "code",
      "metadata": {
        "id": "YOZCfvNqYZ-i"
      },
      "source": [
        "df_valid = pd.read_csv('/content/drive/My Drive/Sentiment Analysis Fire/data/tamil_sentiment_full_dev.csv', header=None)\n",
        "df_valid = df_valid.dropna()\n",
        "df_valid"
      ],
      "execution_count": null,
      "outputs": []
    },
    {
      "cell_type": "code",
      "metadata": {
        "id": "-BAbXdiHYZ-j"
      },
      "source": [
        "df_test = pd.read_csv('/content/drive/My Drive/Sentiment Analysis Fire/data/tamil_sentiment_full_test_withflabels.csv', header=None)\n",
        "df_test"
      ],
      "execution_count": null,
      "outputs": []
    },
    {
      "cell_type": "markdown",
      "metadata": {
        "id": "JrUmnJJOFFH4"
      },
      "source": [
        "###Preprocessing"
      ]
    },
    {
      "cell_type": "code",
      "metadata": {
        "id": "sRzHDDBzFGaz"
      },
      "source": [
        "def convert_emoticons(text):\n",
        "  for emot in EMOTICONS:\n",
        "    text = re.sub(u'('+emot+')', \"_\".join(EMOTICONS[emot].replace(\",\",\"\").split()), text)\n",
        "    return text\n",
        "\n",
        "def preprocess(text):\n",
        "  text = emoji.demojize(text) #convert emojis to their defns in words, they might be useful\n",
        "  text = convert_emoticons(text)\n",
        "  text = re.sub(r'([\\.\\'\\\"\\/\\-\\_\\--])',' ', text) # remove punctuations , removes @USER / some abbreviatins\n",
        "  to_remove_url = ('http[s]?://(?:[a-zA-Z]|[0-9]|[$-_@.&+]|'\n",
        "      '[!*\\(\\),]|(?:%[0-9a-fA-F][0-9a-fA-F]))+')\n",
        "  text = re.sub(to_remove_url,'',text)  # remove url patterns\n",
        "  text = re.sub(\" \\d+\", \" \", text)\n",
        "  text = text.replace(\",\",\" \")\n",
        "  text = re.sub(r'(?:^| )\\w(?:$| )', ' ', text).strip()\n",
        "  punctuation='!!\"$%&()*+-/:;<=>?[\\\\]^_{|}~.'\n",
        "  text = ''.join(ch for ch in text if ch not in set(punctuation))\n",
        "  # text = text.translate(str.maketrans('', '', string.punctuation))\n",
        "  text = BeautifulSoup(text, 'html.parser').get_text()\n",
        "    # Stopword Removing\n",
        "  tokenizer = ToktokTokenizer()\n",
        "  # convert sentence into token of words\n",
        "  tokens = tokenizer.tokenize(text)\n",
        "  tokens = [token.strip() for token in tokens]\n",
        "  text = ' '.join(ch for ch in tokens)\n",
        "  return text \n",
        "\n",
        "def clean(df):\n",
        "  df['text'] = df['text'].apply(lambda x: preprocess(x))\n",
        "\n",
        "clean(train)\n",
        "clean(val)\n",
        "clean(test)"
      ],
      "execution_count": null,
      "outputs": []
    },
    {
      "cell_type": "markdown",
      "metadata": {
        "id": "yvnyEkg-FJpS"
      },
      "source": [
        "###Model"
      ]
    },
    {
      "cell_type": "code",
      "metadata": {
        "id": "ncACHSmNYZ-j"
      },
      "source": [
        "df_train.shape, df_valid.shape, df_test.shape"
      ],
      "execution_count": null,
      "outputs": []
    },
    {
      "cell_type": "code",
      "metadata": {
        "id": "yDx1t0GHYZ-k"
      },
      "source": [
        "df_train[df_train[0].isnull()].shape, df_valid[df_valid[0].isnull()].shape, df_test[df_test[0].isnull()].shape"
      ],
      "execution_count": null,
      "outputs": []
    },
    {
      "cell_type": "code",
      "metadata": {
        "id": "a8z7mujwYZ-l"
      },
      "source": [
        "class TamilTokenizer(BaseTokenizer):    \n",
        "    def __init__(self, lang:str):\n",
        "        self.lang = lang\n",
        "        self.sp = spm.SentencePieceProcessor()\n",
        "        self.sp.Load(str('/content/drive/My Drive/Sentiment Analysis Fire/tokenizer/tamil_spm_8k.model'))\n",
        "        \n",
        "    def tokenizer(self, t:str) -> List[str]:\n",
        "        return self.sp.EncodeAsPieces(t)"
      ],
      "execution_count": null,
      "outputs": []
    },
    {
      "cell_type": "code",
      "metadata": {
        "id": "eb2oCLGDYZ-l"
      },
      "source": [
        "sp = spm.SentencePieceProcessor()\n",
        "sp.Load(str('/content/drive/My Drive/Sentiment Analysis Fire/tokenizer/tamil_spm_8k.model'))\n",
        "itos = [sp.IdToPiece(int(i)) for i in range(8000)]"
      ],
      "execution_count": null,
      "outputs": []
    },
    {
      "cell_type": "code",
      "metadata": {
        "id": "tOf_MTfSYZ-m"
      },
      "source": [
        "tamil_vocab = Vocab(itos)"
      ],
      "execution_count": null,
      "outputs": []
    },
    {
      "cell_type": "code",
      "metadata": {
        "id": "bZIsZyKIYZ-m"
      },
      "source": [
        "tokenizer = Tokenizer(tok_func=TamilTokenizer, lang='ta')"
      ],
      "execution_count": null,
      "outputs": []
    },
    {
      "cell_type": "code",
      "metadata": {
        "id": "R33B2_ltYZ-m"
      },
      "source": [
        "label_cols = [0]"
      ],
      "execution_count": null,
      "outputs": []
    },
    {
      "cell_type": "code",
      "metadata": {
        "id": "3FOwSZNZYZ-n"
      },
      "source": [
        "data_lm = TextLMDataBunch.from_df(path=path, train_df=df_train, valid_df=df_valid, test_df=df_test, tokenizer=tokenizer, vocab=tamil_vocab)"
      ],
      "execution_count": null,
      "outputs": []
    },
    {
      "cell_type": "code",
      "metadata": {
        "id": "SlEXwA7kYZ-n"
      },
      "source": [
        "data_lm.show_batch()"
      ],
      "execution_count": null,
      "outputs": []
    },
    {
      "cell_type": "code",
      "metadata": {
        "id": "bsK7Bg_DYZ-o"
      },
      "source": [
        "awd_lstm_config = awd_lstm_lm_config.copy()\n",
        "awd_lstm_config['n_hid'] = 1150\n",
        "learn = language_model_learner(data_lm, arch=AWD_LSTM, drop_mult=0.3, config=awd_lstm_config, pretrained=False)"
      ],
      "execution_count": null,
      "outputs": []
    },
    {
      "cell_type": "code",
      "metadata": {
        "scrolled": true,
        "id": "Pvn7CaV1YZ-o"
      },
      "source": [
        "learn.load('/content/drive/My Drive/Sentiment Analysis Fire/models/wikitalm_8k_447_third')"
      ],
      "execution_count": null,
      "outputs": []
    },
    {
      "cell_type": "code",
      "metadata": {
        "id": "5rTrRHLPYZ-o"
      },
      "source": [
        "learn.freeze()"
      ],
      "execution_count": null,
      "outputs": []
    },
    {
      "cell_type": "markdown",
      "metadata": {
        "id": "4IiL8UOzFOat"
      },
      "source": [
        "###Training"
      ]
    },
    {
      "cell_type": "code",
      "metadata": {
        "id": "cTbUakUHYZ-p"
      },
      "source": [
        "learn.fit_one_cycle(5, 1e-2)"
      ],
      "execution_count": null,
      "outputs": []
    },
    {
      "cell_type": "code",
      "metadata": {
        "id": "_YUjrZZTYZ-p"
      },
      "source": [
        "learn.unfreeze()"
      ],
      "execution_count": null,
      "outputs": []
    },
    {
      "cell_type": "code",
      "metadata": {
        "id": "aYBR2HFdYZ-p"
      },
      "source": [
        "learn.fit_one_cycle(10, 1e-3)"
      ],
      "execution_count": null,
      "outputs": []
    },
    {
      "cell_type": "code",
      "metadata": {
        "id": "0cSujdmkYZ-p"
      },
      "source": [
        "learn.predict('▁தனது ▁சொந்த',n_words=10)"
      ],
      "execution_count": null,
      "outputs": []
    },
    {
      "cell_type": "code",
      "metadata": {
        "id": "99IkgtLcYZ-p"
      },
      "source": [
        "learn.save_encoder('/content/drive/My Drive/Sentiment Analysis Fire/models/preprocessed/ulmfit')"
      ],
      "execution_count": null,
      "outputs": []
    },
    {
      "cell_type": "code",
      "metadata": {
        "id": "uu0CyPIGYZ-q"
      },
      "source": [
        "data_clas = TextClasDataBunch.from_df(path=path, train_df=df_train, valid_df=df_valid, test_df=df_test, tokenizer=tokenizer, vocab=tamil_vocab, label_cols=label_cols, bs=64)"
      ],
      "execution_count": null,
      "outputs": []
    },
    {
      "cell_type": "code",
      "metadata": {
        "id": "iy5oDSwsYZ-q"
      },
      "source": [
        "data_clas.show_batch()"
      ],
      "execution_count": null,
      "outputs": []
    },
    {
      "cell_type": "code",
      "metadata": {
        "id": "rvrzaucYYZ-q"
      },
      "source": [
        "del awd_lstm_config['tie_weights']\n",
        "del awd_lstm_config['out_bias']"
      ],
      "execution_count": null,
      "outputs": []
    },
    {
      "cell_type": "code",
      "metadata": {
        "id": "xEr5UAv_YZ-q"
      },
      "source": [
        "learn = text_classifier_learner(data_clas, arch=AWD_LSTM, drop_mult=0.5, config=awd_lstm_config)"
      ],
      "execution_count": null,
      "outputs": []
    },
    {
      "cell_type": "code",
      "metadata": {
        "id": "YSnO1PY3YZ-q"
      },
      "source": [
        "learn.load_encoder('/content/drive/My Drive/Sentiment Analysis Fire/models/preprocessed/ulmfit')"
      ],
      "execution_count": null,
      "outputs": []
    },
    {
      "cell_type": "code",
      "metadata": {
        "id": "rU3FxFnYYZ-r"
      },
      "source": [
        "learn.freeze()"
      ],
      "execution_count": null,
      "outputs": []
    },
    {
      "cell_type": "code",
      "metadata": {
        "id": "iqLNL9nRYZ-r"
      },
      "source": [
        "learn.loss_func.func"
      ],
      "execution_count": null,
      "outputs": []
    },
    {
      "cell_type": "code",
      "metadata": {
        "id": "a8vIK_KHYZ-r"
      },
      "source": [
        "mcc = MatthewsCorreff()"
      ],
      "execution_count": null,
      "outputs": []
    },
    {
      "cell_type": "code",
      "metadata": {
        "id": "b87z2dyfYZ-r"
      },
      "source": [
        "learn.metrics = [mcc, accuracy]"
      ],
      "execution_count": null,
      "outputs": []
    },
    {
      "cell_type": "code",
      "metadata": {
        "id": "5Mu1a2DzYZ-r"
      },
      "source": [
        "learn.fit_one_cycle(10, 1e-2)"
      ],
      "execution_count": null,
      "outputs": []
    },
    {
      "cell_type": "code",
      "metadata": {
        "id": "ob3z-fQ6YZ-s"
      },
      "source": [
        "learn.freeze_to(-2)\n",
        "learn.fit_one_cycle(10, 1e-2)"
      ],
      "execution_count": null,
      "outputs": []
    },
    {
      "cell_type": "code",
      "metadata": {
        "id": "1qjog3hCYZ-s"
      },
      "source": [
        "learn.unfreeze()\n",
        "learn.fit_one_cycle(30, 1e-3, callbacks=[callbacks.SaveModelCallback(learn, every='improvement', monitor='accuracy', name='final')])"
      ],
      "execution_count": null,
      "outputs": []
    },
    {
      "cell_type": "markdown",
      "metadata": {
        "id": "9euKel7NFUVh"
      },
      "source": [
        "###Predictions"
      ]
    },
    {
      "cell_type": "code",
      "metadata": {
        "id": "CW7ROaSjYZ-s"
      },
      "source": [
        "from sklearn.metrics import accuracy_score, matthews_corrcoef\n",
        "df_dict = {'query': list(df_test[1]), 'actual_label': list(df_test[0]), 'predicted_label': ['']*df_test.shape[0]}\n",
        "all_nodes = list(set(df_train[0]))\n",
        "for node in all_nodes:\n",
        "    df_dict[node] = ['']*df_test.shape[0]\n",
        "    \n",
        "i2c = {}\n",
        "for key, value in learn.data.c2i.items():\n",
        "    i2c[value] = key\n",
        "    \n",
        "df_result = pd.DataFrame(df_dict)\n",
        "preds = learn.get_preds(ds_type=DatasetType.Test, ordered=True)\n",
        "for index, row in df_result.iterrows():\n",
        "    for node in all_nodes:\n",
        "        row[node] = preds[0][index][learn.data.c2i[node]].item()\n",
        "    row['predicted_label'] = i2c[np.argmax(preds[0][index]).data.item()]\n",
        "df_result.head(50)"
      ],
      "execution_count": null,
      "outputs": []
    },
    {
      "cell_type": "code",
      "metadata": {
        "id": "3APhqA34YZ-t"
      },
      "source": [
        "accuracy_score(df_result['actual_label'], df_result['predicted_label'])"
      ],
      "execution_count": null,
      "outputs": []
    },
    {
      "cell_type": "code",
      "metadata": {
        "id": "ct7Ij2jxYZ-t"
      },
      "source": [
        "matthews_corrcoef(df_result['actual_label'], df_result['predicted_label'])"
      ],
      "execution_count": null,
      "outputs": []
    },
    {
      "cell_type": "markdown",
      "metadata": {
        "id": "60zB1q7KHIUD"
      },
      "source": [
        "###Write to CSV"
      ]
    },
    {
      "cell_type": "code",
      "metadata": {
        "id": "YtJDpocPYZ-t"
      },
      "source": [
        "df_result = df_result[['query','predicted_label']]\n",
        "df_result.to_csv('/content/drive/My Drive/Sentiment Analysis Fire/output/preprocessed/UMLFit.csv', index=False, header=None)"
      ],
      "execution_count": null,
      "outputs": []
    }
  ]
}